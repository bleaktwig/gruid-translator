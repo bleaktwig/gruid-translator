{
 "cells": [
  {
   "cell_type": "markdown",
   "metadata": {},
   "source": [
    "### **Gruid Translator**\n",
    "##### by **Bruno Benkel**\n",
    "To the extent possible under law, the person who associated CC0 with **Gruid Translator** has waived\n",
    "all copyright and related or neighboring rights to **Gruid Translator**."
   ]
  },
  {
   "cell_type": "markdown",
   "metadata": {},
   "source": [
    "# CODE"
   ]
  },
  {
   "cell_type": "code",
   "execution_count": null,
   "metadata": {},
   "outputs": [],
   "source": [
    "import sys\n",
    "sys.path.insert(0, \"./src\")\n",
    "\n",
    "import constants as c\n",
    "import file_io as io\n",
    "import event_handler as e_handler\n",
    "import tseries_handler as ts_handler"
   ]
  },
  {
   "cell_type": "code",
   "execution_count": null,
   "metadata": {},
   "outputs": [],
   "source": [
    "DATAFILE = \"/home/twig/data/code/babycal/bcal_generator/output_test_1.txt\"\n",
    "\n",
    "NROWS = 11\n",
    "NCOLS = 11\n",
    "\n",
    "dt = 0.05\n",
    "dx = 0.1\n",
    "dy = 0.1"
   ]
  },
  {
   "cell_type": "markdown",
   "metadata": {},
   "source": [
    "# PLOTS"
   ]
  },
  {
   "cell_type": "code",
   "execution_count": null,
   "metadata": {},
   "outputs": [],
   "source": [
    "# Imports only for checking results.\n",
    "import matplotlib.pyplot as plt\n",
    "from matplotlib.pyplot import figure\n",
    "import seaborn as sns\n",
    "import pprint\n",
    "pp = pprint.PrettyPrinter(indent=4, width=100, compact=True)"
   ]
  },
  {
   "cell_type": "code",
   "execution_count": null,
   "metadata": {
    "scrolled": false
   },
   "outputs": [],
   "source": [
    "(metadata, events) = io.load_file(DATAFILE)\n",
    "nevent = 0\n",
    "for event in events:\n",
    "    hits = e_handler.extract_hits(event)\n",
    "    tseries = [ts_handler.generate_timeseries(hits[i], c.DELTAX(NCOLS), c.DELTAY(NROWS), dt, dx, dy)\n",
    "               for i in range(2)]\n",
    "    print(\"=== EVENT %d ===============================================================================\" %nevent)\n",
    "    for i in range(len(tseries)):\n",
    "        if i == 0: print(\"Plate 1:\")\n",
    "        if i == 1: print(\"Plate 2:\")\n",
    "        \n",
    "        for ti in range(len(tseries[i])):\n",
    "            if tseries[i][ti] == None: continue\n",
    "            print(\"  > t = %4.2f:\" % (ti*dt))\n",
    "            plt.figure(num=1, figsize=(6, 4), dpi=120, facecolor='w', edgecolor='k')\n",
    "            plt.matshow(tseries[i][ti].todense(), fignum=1);\n",
    "            plt.colorbar()\n",
    "            plt.title(\"Energy deposited (in MeV) of each hit\")\n",
    "            plt.xlabel(\"row\")\n",
    "            plt.ylabel(\"col\")\n",
    "            plt.show()\n",
    "    nevent += 1"
   ]
  }
 ],
 "metadata": {
  "kernelspec": {
   "display_name": "Python 3",
   "language": "python",
   "name": "python3"
  },
  "language_info": {
   "codemirror_mode": {
    "name": "ipython",
    "version": 3
   },
   "file_extension": ".py",
   "mimetype": "text/x-python",
   "name": "python",
   "nbconvert_exporter": "python",
   "pygments_lexer": "ipython3",
   "version": "3.8.6"
  }
 },
 "nbformat": 4,
 "nbformat_minor": 4
}
