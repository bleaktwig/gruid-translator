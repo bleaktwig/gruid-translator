{
 "cells": [
  {
   "cell_type": "code",
   "execution_count": null,
   "metadata": {},
   "outputs": [],
   "source": [
    "import os\n",
    "\n",
    "PATH = os.path.abspath(\"test.ipynb\")\n",
    "DATA = os.path.join(os.path.dirname(PATH), \"data/output_optical_7.txt\")\n",
    "\n",
    "f = open(DATA)"
   ]
  },
  {
   "cell_type": "code",
   "execution_count": null,
   "metadata": {},
   "outputs": [],
   "source": [
    "# Store metadata as strings (for now).\n",
    "metadata = {}\n",
    "\n",
    "for i in range(2):\n",
    "    devnull = f.readline() # Ignore the first two lines.\n",
    "\n",
    "while True:\n",
    "    x = f.tell() # Define a stopping point for later (a bit dirty but it's not too bad).\n",
    "    l = f.readline()\n",
    "    if l[3] != '>': break # From this point we begin reading events.\n",
    "    sl = l.split(' ')\n",
    "    if len(sl) == 7:\n",
    "        metadata[sl[5]] = sl[6][:-1]\n",
    "devnull = f.seek(x)"
   ]
  },
  {
   "cell_type": "code",
   "execution_count": null,
   "metadata": {},
   "outputs": [],
   "source": [
    "# Store event data in \"struct\":\n",
    "#     event_data[0] : header bank (10).\n",
    "#     event_data[1] : user header bank (currently empty). Assumed to have same format as header bank.\n",
    "#     event_data[2] : integrated raw bank (51).\n",
    "#     event_data[3] : integrated digitized bank (52).\n",
    "#     event_data[4] : generated particles bank.\n",
    "event_data = ({}, {}, {}, {}, {})\n",
    "bcounter = -1 # Bank counter.\n",
    "eof = 0 # End of file checker.\n",
    "\n",
    "while True:\n",
    "    l = f.readline()\n",
    "    l = l[:-1]\n",
    "    if l == \" ---- End of Event  ----\": \n",
    "        break\n",
    "    if l == '':\n",
    "        eof = 1\n",
    "        break\n",
    "\n",
    "    # Make sure we're writing to the correct address.\n",
    "    if   l == \" --- Header Bank --\":                          bcounter = 0\n",
    "    elif l == \" --- User Header Bank --\":                     bcounter = 1\n",
    "    elif l == \"   -- integrated true infos bank  (51, 0) --\": bcounter = 2\n",
    "    elif l == \"   -- integrated digitized bank  (52, 0) --\":  bcounter = 3\n",
    "    elif l == \" --- Generated Particles Bank --\":             bcounter = 4\n",
    "\n",
    "    if bcounter != 4:\n",
    "        sl = l.split('\\t')\n",
    "        if len(sl) == 1: continue # Ignore lines with titles & additional information.\n",
    "\n",
    "    if bcounter < 2: # Header & user header banks.\n",
    "        event_data[bcounter][sl[0].split(' ')[-1][:-1]] = sl[1]\n",
    "    elif bcounter < 4: # Raw & Digitized banks.\n",
    "        event_data[bcounter][sl[0].split(' ')[-1][:-1]] = sl[1:]\n",
    "    if bcounter == 4: # Generated particles bank.\n",
    "        sl = l.split()\n",
    "        if sl[1] == 'Particle':\n",
    "            event_data[bcounter][sl[ 3][:-1]] = sl[ 4]\n",
    "            event_data[bcounter][sl[ 6][:-1]] = sl[ 7]\n",
    "            event_data[bcounter][sl[10][:-1]] = sl[11]\n",
    "        if sl[1] == 'Hit':\n",
    "            event_data[bcounter]['nhits'] = sl[ 4]\n",
    "            event_data[bcounter][sl[ 7]]  = sl[ 8]\n",
    "            event_data[bcounter][sl[11]]  = sl[12]\n",
    "\n",
    "if eof == 0: print(\"Event #%s stored!\" % (event_data[0]['evn']))\n",
    "else: print(\"Reached end of file!\")"
   ]
  },
  {
   "cell_type": "code",
   "execution_count": null,
   "metadata": {},
   "outputs": [],
   "source": [
    "import pprint\n",
    "pp = pprint.PrettyPrinter(indent=4)\n",
    "\n",
    "pp.pprint(event_data)"
   ]
  }
 ],
 "metadata": {
  "kernelspec": {
   "display_name": "Python 3",
   "language": "python",
   "name": "python3"
  },
  "language_info": {
   "codemirror_mode": {
    "name": "ipython",
    "version": 3
   },
   "file_extension": ".py",
   "mimetype": "text/x-python",
   "name": "python",
   "nbconvert_exporter": "python",
   "pygments_lexer": "ipython3",
   "version": "3.8.5"
  }
 },
 "nbformat": 4,
 "nbformat_minor": 4
}
