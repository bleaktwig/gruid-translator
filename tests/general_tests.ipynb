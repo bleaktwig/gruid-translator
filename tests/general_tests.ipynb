{
 "cells": [
  {
   "cell_type": "markdown",
   "metadata": {},
   "source": [
    "# **Gruid Translator**\n",
    "To the extent possible under law, the person who associated CC0 with **Gruid Translator** has waived\n",
    "all copyright and related or neighboring rights to **Gruid Translator**."
   ]
  },
  {
   "cell_type": "code",
   "execution_count": null,
   "metadata": {},
   "outputs": [],
   "source": [
    "import sys\n",
    "import numpy as np\n",
    "import matplotlib.pyplot as plt\n",
    "from matplotlib.pyplot import figure\n",
    "import seaborn as sns\n",
    "\n",
    "sys.path.insert(0, \"../src\")\n",
    "import constants as c\n",
    "import file_io as io\n",
    "import gemcevent_handler as gemc_eh\n",
    "import gruidevent_handler as gruid_eh"
   ]
  },
  {
   "cell_type": "code",
   "execution_count": null,
   "metadata": {},
   "outputs": [],
   "source": [
    "# INFILE = \"/home/twig/data/code/babycal/bcal_generator_bruno/bcal_20210311122138_r11c11.txt\"\n",
    "INFILE = \"/home/twig/data/code/babycal/bcal_generator_bruno/output_test_1.txt\"\n",
    "\n",
    "dt = 0.01\n",
    "dx = 0.1\n",
    "dy = 0.1\n",
    "fevent = 1\n",
    "nevents = 0\n",
    "nrows = 7\n",
    "ncols = 7"
   ]
  },
  {
   "cell_type": "code",
   "execution_count": null,
   "metadata": {
    "scrolled": false
   },
   "outputs": [],
   "source": [
    "# Load gemc file\n",
    "(path, filename) = io.split_address(INFILE)\n",
    "if nrows is None and ncols is None: (nrows, ncols) = io.decode_filename(filename)\n",
    "(metadata, events) = io.load_file(INFILE, fevent, nevents)\n",
    "\n",
    "# Store and process hits\n",
    "ei = fevent\n",
    "gemchitsdict  = {}\n",
    "gruidhitsdict = {}\n",
    "for event in events:\n",
    "    key = filename + ' ' + c.S_EVENT + ' ' + str(ei)\n",
    "    gemchitsdict[key]  = gemc_eh.extract_hits(event)\n",
    "    gruidhitsdict[key] = gruid_eh.generate_event(gemchitsdict[key], nrows, ncols, dt, dx, dy)\n",
    "    ei += 1\n",
    "\n",
    "# Select last event\n",
    "en = -1\n",
    "for k in gruidhitsdict.keys():\n",
    "    ei = int(k.split(' ')[-1])\n",
    "    if ei > en: en = ei\n",
    "k = filename + ' ' + c.S_EVENT + ' ' + str(ei)\n",
    "\n",
    "# Store the time series\n",
    "gruid_nrows = gruidhitsdict[k][c.S_GRUIDMETA][c.S_NROWS]\n",
    "gruid_ncols = gruidhitsdict[k][c.S_GRUIDMETA][c.S_NCOLS]\n",
    "m     = {c.S_GRUIDH1: {}, c.S_GRUIDH2: {}}\n",
    "sum_m = {}\n",
    "\n",
    "for side in m.keys():\n",
    "    for t in gruidhitsdict[k][side].keys():\n",
    "        m[side][t] = np.zeros([gruid_nrows, gruid_ncols]) # Check if this is in order, seems weird.\n",
    "        sum_m[t]   = np.zeros([gruid_nrows, gruid_ncols])\n",
    "        for loc in gruidhitsdict[k][side][t]:\n",
    "            (x,y) = map(int, loc.split(','))\n",
    "            m[side][t][y,x] = gruidhitsdict[k][side][t][loc]\n",
    "            sum_m[t][y,x]  += gruidhitsdict[k][side][t][loc]\n",
    "\n",
    "# Draw plots\n",
    "for t in m[c.S_GRUIDH1].keys():\n",
    "    print(\"t = \" + str(round(t, 3)))\n",
    "    plt.figure(num=1, figsize=(6, 4), dpi=120, facecolor='w', edgecolor='k')\n",
    "    plt.matshow(sum_m[t], fignum=1, origin=\"lower\")\n",
    "    plt.colorbar()\n",
    "    plt.title(\"Energy deposited (in MeV) for each hit\")\n",
    "    plt.xlabel(\"col\")\n",
    "    plt.ylabel(\"row\")\n",
    "    plt.show()"
   ]
  }
 ],
 "metadata": {
  "kernelspec": {
   "display_name": "Python 3",
   "language": "python",
   "name": "python3"
  },
  "language_info": {
   "codemirror_mode": {
    "name": "ipython",
    "version": 3
   },
   "file_extension": ".py",
   "mimetype": "text/x-python",
   "name": "python",
   "nbconvert_exporter": "python",
   "pygments_lexer": "ipython3",
   "version": "3.8.6"
  }
 },
 "nbformat": 4,
 "nbformat_minor": 4
}
