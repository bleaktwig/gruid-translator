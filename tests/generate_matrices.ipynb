{
 "cells": [
  {
   "cell_type": "markdown",
   "metadata": {},
   "source": [
    "# **Gruid Translator**\n",
    "To the extent possible under law, the person who associated CC0 with **Gruid Translator** has waived\n",
    "all copyright and related or neighboring rights to **Gruid Translator**."
   ]
  },
  {
   "cell_type": "code",
   "execution_count": null,
   "metadata": {},
   "outputs": [],
   "source": [
    "import json\n",
    "import sys\n",
    "import numpy as np\n",
    "\n",
    "sys.path.insert(0, \"../src\")\n",
    "import constants as c"
   ]
  },
  {
   "cell_type": "code",
   "execution_count": null,
   "metadata": {},
   "outputs": [],
   "source": [
    "INFILE = \"/home/twig/data/code/babycal/gruid_translator/out/out_bcal_20210317111802_1-5.json\""
   ]
  },
  {
   "cell_type": "code",
   "execution_count": null,
   "metadata": {},
   "outputs": [],
   "source": [
    "gruid_events = None\n",
    "\n",
    "with open(INFILE) as f:\n",
    "    gruid_events = json.load(f)"
   ]
  },
  {
   "cell_type": "code",
   "execution_count": null,
   "metadata": {},
   "outputs": [],
   "source": [
    "def recover_matrix(mdict, nrows, ncols):\n",
    "    \"\"\"Convert a sparse matrix inside a gruid dictionary into a numpy matrix.\n",
    "    \"\"\"\n",
    "    m = np.zeros([nrows,ncols])\n",
    "    for loc in mdict:\n",
    "        (x,y) = map(int, loc.split(','))\n",
    "        m[y,x] = mdict[loc]\n",
    "    return m"
   ]
  },
  {
   "cell_type": "code",
   "execution_count": null,
   "metadata": {},
   "outputs": [],
   "source": [
    "timeseries = {}\n",
    "for k in gruid_events.keys():\n",
    "    nrows = gruid_events[k][c.S_GRUIDMETA][c.S_NROWS]\n",
    "    ncols = gruid_events[k][c.S_GRUIDMETA][c.S_NCOLS]\n",
    "    timeseries[k] = {}\n",
    "    for s in [c.S_GRUIDH1, c.S_GRUIDH2]:\n",
    "        timeseries[k][s] = {}\n",
    "        for t in gruid_events[k][s].keys():\n",
    "            timeseries[k][s][float(t)] = recover_matrix(gruid_events[k][s][t], nrows, ncols)"
   ]
  },
  {
   "cell_type": "code",
   "execution_count": null,
   "metadata": {},
   "outputs": [],
   "source": [
    "import pprint\n",
    "pp = pprint.PrettyPrinter(indent=4)\n",
    "pp.pprint(timeseries)"
   ]
  }
 ],
 "metadata": {
  "kernelspec": {
   "display_name": "Python 3",
   "language": "python",
   "name": "python3"
  },
  "language_info": {
   "codemirror_mode": {
    "name": "ipython",
    "version": 3
   },
   "file_extension": ".py",
   "mimetype": "text/x-python",
   "name": "python",
   "nbconvert_exporter": "python",
   "pygments_lexer": "ipython3",
   "version": "3.8.6"
  }
 },
 "nbformat": 4,
 "nbformat_minor": 4
}
